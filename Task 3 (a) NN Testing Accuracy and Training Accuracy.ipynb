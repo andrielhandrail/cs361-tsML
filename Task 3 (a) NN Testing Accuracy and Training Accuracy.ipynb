{
 "cells": [
  {
   "cell_type": "code",
   "execution_count": 7,
   "id": "f99dd96b",
   "metadata": {},
   "outputs": [],
   "source": [
    "import pandas as pd\n",
    "import numpy as np\n",
    "import os\n",
    "from sklearn.feature_extraction.text import TfidfVectorizer\n",
    "from keras.models import Sequential \n",
    "from keras.layers import Dense, Activation \n",
    "import numpy as np\n",
    "from matplotlib import pyplot as plt\n",
    "from sklearn.metrics import accuracy_score\n",
    "from tensorflow.keras import initializers\n",
    "import math \n",
    "from tensorflow import keras\n",
    "import statistics \n",
    "from sklearn import metrics\n",
    "from sklearn.metrics import classification_report"
   ]
  },
  {
   "cell_type": "code",
   "execution_count": 8,
   "id": "651c8071",
   "metadata": {},
   "outputs": [
    {
     "data": {
      "text/plain": [
       "(428, 14927)"
      ]
     },
     "execution_count": 8,
     "metadata": {},
     "output_type": "execute_result"
    }
   ],
   "source": [
    "os.chdir(\"C:/Users/Yingxing Huang/Desktop/Compsci 361 Machine Learning/A3 Group Project/Data/A3\")\n",
    "\"\"\"data preprocessing\"\"\"\n",
    "# load the data\n",
    "train_data = pd.read_csv (\"train.csv\")\n",
    "test_data = pd.read_csv (\"test.csv\")\n",
    "\n",
    "\"\"\"vectorisation\"\"\" \n",
    "# combine two train set and test set\n",
    "full_data = pd.concat([train_data, test_data], axis=0)\n",
    "text = full_data['Text']\n",
    "# Term Frequency - Inverse Document Frequency (TF - IDF)\n",
    "vectorizor = TfidfVectorizer() \n",
    "vectorizor.fit (text)\n",
    "# encode article \n",
    "vector = vectorizor.transform(text)\n",
    "\n",
    "\"\"\"recover the split\"\"\"\n",
    "train_X = vector[:428].toarray()\n",
    "test_X = vector[428:].toarray()\n",
    "train_y_bool = list(train_data ['Category'] == \"tech\")\n",
    "test_y_bool = list(test_data ['Category'] == \"tech\")\n",
    "train_y = np.array(list(map(int, train_y_bool)))\n",
    "test_y =  np.array(list(map(int, test_y_bool)))\n",
    "train_X.shape\n"
   ]
  },
  {
   "cell_type": "markdown",
   "id": "6723bca3",
   "metadata": {},
   "source": [
    "# Generate Data"
   ]
  },
  {
   "cell_type": "code",
   "execution_count": 9,
   "id": "ab8aed52",
   "metadata": {},
   "outputs": [],
   "source": [
    "def get_data (p):\n",
    "    num_obs = round (p * train_X.shape[0])       # the number of instances that will be selected\n",
    "    new_train_X = train_X [:num_obs]\n",
    "    new_train_y = train_y[:num_obs]\n",
    "    new_test_X = train_X [num_obs:]\n",
    "    new_test_y = train_y[num_obs:]\n",
    "    return (new_train_X, new_train_y, new_test_X,new_test_y)"
   ]
  },
  {
   "cell_type": "code",
   "execution_count": null,
   "id": "c855efbe",
   "metadata": {},
   "outputs": [],
   "source": [
    "\n"
   ]
  },
  {
   "cell_type": "markdown",
   "id": "a2ba9cf4",
   "metadata": {},
   "source": [
    "# Train the Model"
   ]
  },
  {
   "cell_type": "code",
   "execution_count": 56,
   "id": "6af1e460",
   "metadata": {},
   "outputs": [
    {
     "name": "stdout",
     "output_type": "stream",
     "text": [
      "train_accuracy\n",
      " [0.9944367861016025, 0.9970300287567164, 0.9980236825517426, 0.9982213163254502, 0.998326005464477]\n",
      "\n",
      "test_accuracy\n",
      " [0.6697214076246335, 0.9615942028985507, 0.9903169818215036, 0.9903732631005359, 0.9903732631005359]\n",
      "\n"
     ]
    }
   ],
   "source": [
    "n_features = train_X.shape[1]\n",
    "train_accuracy = []\n",
    "test_accuracy = []\n",
    "\n",
    "\n",
    "m = [0.1, 0.3, 0.5, 0.7, 0.9]\n",
    "for p in m:\n",
    "    new_train_X, new_train_y, new_test_X,new_test_y = get_data (p)\n",
    "    build_NN(20, new_train_X, new_train_y,new_test_X, new_test_y, test_X, test_y)     # use 20 hidden units\n",
    "\n",
    "print (f'train_accuracy\\n {train_accuracy}\\n')\n",
    "print (f'test_accuracy\\n {test_accuracy}\\n')\n",
    "   \n",
    "\n",
    "    \n"
   ]
  },
  {
   "cell_type": "markdown",
   "id": "84b66838",
   "metadata": {},
   "source": [
    "# Plot training accuracy"
   ]
  },
  {
   "cell_type": "code",
   "execution_count": null,
   "id": "c27bf284",
   "metadata": {},
   "outputs": [],
   "source": [
    "\n"
   ]
  },
  {
   "cell_type": "markdown",
   "id": "3aea4cd6",
   "metadata": {},
   "source": [
    "# Plot testing accuracy"
   ]
  },
  {
   "cell_type": "code",
   "execution_count": null,
   "id": "4362b6d0",
   "metadata": {},
   "outputs": [],
   "source": []
  },
  {
   "cell_type": "markdown",
   "id": "ae87f638",
   "metadata": {},
   "source": [
    "# Build Neural Network "
   ]
  },
  {
   "cell_type": "code",
   "execution_count": 55,
   "id": "415569b6",
   "metadata": {},
   "outputs": [],
   "source": [
    "def build_NN (h,new_train_X, new_train_y,new_test_X, new_test_y, test_X, test_y):\n",
    "    initializer = initializers.RandomUniform(minval = 0, maxval = 0.1, seed=None)\n",
    "    nn_model = Sequential ()\n",
    "    nn_model.add (Dense(h, input_dim = n_features, activation = 'relu', kernel_initializer = initializer) )  # hidden layer: a dense layer that is fully connected\n",
    "    nn_model.add(Dense(1, activation = 'sigmoid', kernel_initializer = initializer))   # ouput layer\n",
    "    \n",
    "    # define optimiser and initialise weights \n",
    "    opt = keras.optimizers.Adam(learning_rate = 0.01)\n",
    "    # compile the model\n",
    "    nn_model.compile (loss = 'binary_crossentropy', optimizer = opt, metrics = ['Precision', 'Recall'])\n",
    "\n",
    "    # fit the model\n",
    "    history = nn_model.fit (new_train_X, new_train_y, epochs = 100 , batch_size = 10, verbose = 0)\n",
    "    \n",
    "    # train accuracy \n",
    "    f1 = calculate_f1 (statistics.mean(history.history['precision']), statistics.mean(history.history['recall']))\n",
    "    train_accuracy.append(f1)   # f1 is a list\n",
    "    \n",
    "    # validation accuracy\n",
    "    #_, accuracy = nn_model.evaluate(new_test_X, new_test_y)\n",
    "    \n",
    "\n",
    "    # test accuracy\n",
    "    y_pred = nn_model.predict_classes(test_X)\n",
    "    classi_report = classification_report(test_y, y_pred, output_dict = True) # find f1 score\n",
    "    test_accuracy.append(classi_report['macro avg']['f1-score'])\n",
    "    "
   ]
  },
  {
   "cell_type": "code",
   "execution_count": 52,
   "id": "ea8b2806",
   "metadata": {},
   "outputs": [],
   "source": [
    "def calculate_f1 (precision, recall):\n",
    "    f1  = 2 * precision * recall / (precision + recall)\n",
    "    \n",
    "    return f1"
   ]
  },
  {
   "cell_type": "code",
   "execution_count": null,
   "id": "4094e0d1",
   "metadata": {},
   "outputs": [],
   "source": []
  },
  {
   "cell_type": "code",
   "execution_count": null,
   "id": "6dfbe9db",
   "metadata": {},
   "outputs": [],
   "source": []
  }
 ],
 "metadata": {
  "kernelspec": {
   "display_name": "Python 3",
   "language": "python",
   "name": "python3"
  },
  "language_info": {
   "codemirror_mode": {
    "name": "ipython",
    "version": 3
   },
   "file_extension": ".py",
   "mimetype": "text/x-python",
   "name": "python",
   "nbconvert_exporter": "python",
   "pygments_lexer": "ipython3",
   "version": "3.8.8"
  }
 },
 "nbformat": 4,
 "nbformat_minor": 5
}
